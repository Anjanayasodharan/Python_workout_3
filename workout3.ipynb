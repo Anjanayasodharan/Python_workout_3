{
 "cells": [
  {
   "cell_type": "markdown",
   "metadata": {},
   "source": [
    "## PROBLEM 1"
   ]
  },
  {
   "cell_type": "markdown",
   "metadata": {},
   "source": [
    "### Temperature Problem\n",
    "### Create a Temperature class make two methods\n",
    "### 1.convertFahrenheit - It will take Celsius and will print it into Fahrenheit.\n",
    "### 2.convertCelsius - It will take Fahrenheit and will print it into Celsius."
   ]
  },
  {
   "cell_type": "code",
   "execution_count": 1,
   "metadata": {},
   "outputs": [
    {
     "name": "stdout",
     "output_type": "stream",
     "text": [
      "1.0 Degree Celsius =  33.8 Fahrenheit\n",
      "30.0 Degree Fahrenheit =  -1.1111111111111112 Celsius\n"
     ]
    }
   ],
   "source": [
    "class Temp:\n",
    "    te=0\n",
    "    \n",
    "    def __init__(self,te):\n",
    "        self.te=te\n",
    "        \n",
    "    def convertFahrenheit(self):\n",
    "        tem=float((1.8*self.te)+32)\n",
    "        return tem\n",
    "    \n",
    "    def convertCelsius(self):\n",
    "        tem=float((self.te-32)/1.8)\n",
    "        return tem\n",
    "    \n",
    "    \n",
    "in_temp=float(input(\"Enter the temperature in Celsius\"))\n",
    "temp=Temp(in_temp)\n",
    "print(in_temp,\"Degree Celsius = \",temp.convertFahrenheit(),\"Fahrenheit\")\n",
    "\n",
    "in_temp=float(input(\"Enter the temperature in Fahrenheit\"))\n",
    "temp=Temp(in_temp)\n",
    "print(in_temp,\"Degree Fahrenheit = \",temp.convertCelsius(),\"Celsius\")"
   ]
  },
  {
   "cell_type": "markdown",
   "metadata": {},
   "source": [
    "## PROBLEM 3"
   ]
  },
  {
   "cell_type": "markdown",
   "metadata": {},
   "source": [
    "### Time Problem\n",
    "### Create a time class and initialize it with hours and minutes\n",
    "### 1. Make a methode addTime which should be take two time object and add them.\n",
    "### 2. Make a methode displayTime which should print time.\n",
    "### 3. Make a methode DisplayMinute which should display the total minutes in the time."
   ]
  },
  {
   "cell_type": "code",
   "execution_count": 2,
   "metadata": {},
   "outputs": [
    {
     "name": "stdout",
     "output_type": "stream",
     "text": [
      "First time   1 : 30\n",
      "Second time  3 : 15\n",
      "Time is 4 Hours 45 Minutes\n",
      "Time in Minute is 285 Minutes\n"
     ]
    }
   ],
   "source": [
    "class Time:    \n",
    "    def __init__(self,hr,min):\n",
    "        self.hr=hr\n",
    "        self.min=min  \n",
    "              \n",
    "    def addTime(t1,t2):\n",
    "        t3=Time(0,0)\n",
    "        if (t1.min+t2.min)>60:\n",
    "            t3.hr=int((t1.min+t2.min)/60)\n",
    "            t3.min-=60\n",
    "        t3.hr=t3.hr+t2.hr+t1.hr\n",
    "        t3.min=t2.min+t1.min+t3.min\n",
    "        return t3\n",
    "    \n",
    "    def displayTime(self):\n",
    "        print (\"Time is\",self.hr,\"Hours\",self.min,\"Minutes\")\n",
    "    \n",
    "    def DisplayMinute(self):\n",
    "        print (\"Time in Minute is\",(self.hr*60)+self.min,\"Minutes\")\n",
    "    \n",
    "    \n",
    "    \n",
    "in_t1h=int(input(\"first time in hours and minutes\"))\n",
    "in_t1m=int(input(\"\"))\n",
    "in_t2h=int(input(\"second time in hours and minutes\"))\n",
    "in_t2m=int(input(\"\"))\n",
    "print(\"First time  \",in_t1h,\":\",in_t1m)\n",
    "print(\"Second time \",in_t2h,\":\",in_t2m)\n",
    "var1=Time(in_t1h,in_t1m)\n",
    "var2=Time(in_t2h,in_t2m)\n",
    "tme=Time.addTime(var1,var2)\n",
    "tme.displayTime()\n",
    "tme.DisplayMinute()"
   ]
  }
 ],
 "metadata": {
  "kernelspec": {
   "display_name": "Python 3.10.7 ('modules': venv)",
   "language": "python",
   "name": "python3"
  },
  "language_info": {
   "codemirror_mode": {
    "name": "ipython",
    "version": 3
   },
   "file_extension": ".py",
   "mimetype": "text/x-python",
   "name": "python",
   "nbconvert_exporter": "python",
   "pygments_lexer": "ipython3",
   "version": "3.10.7"
  },
  "orig_nbformat": 4,
  "vscode": {
   "interpreter": {
    "hash": "f00762cf53fb29fea2446fb4f72dffec05260c09c88efb3411852433764bbee0"
   }
  }
 },
 "nbformat": 4,
 "nbformat_minor": 2
}
